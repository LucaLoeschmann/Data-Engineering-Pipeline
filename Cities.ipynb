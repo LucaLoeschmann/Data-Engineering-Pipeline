{
 "cells": [
  {
   "cell_type": "code",
   "execution_count": null,
   "id": "82528781-a2c4-4cb5-bdbb-9157a05f2a4b",
   "metadata": {},
   "outputs": [],
   "source": [
    "import pandas as pd\n",
    "import requests\n",
    "from bs4 import BeautifulSoup "
   ]
  },
  {
   "cell_type": "markdown",
   "id": "7417afe0-f6a1-458b-b3d9-b692d4425645",
   "metadata": {},
   "source": [
    "#  Scraping Information about Berlin"
   ]
  },
  {
   "cell_type": "code",
   "execution_count": 7,
   "id": "aa74f9b4-74a9-481a-87cb-70dfb25dbf6c",
   "metadata": {},
   "outputs": [],
   "source": [
    "# Loading the HTML\n",
    "url = 'https://www.wikipedia.org/wiki/Berlin'\n",
    "response = requests.get(url)\n",
    "berlin_soup = BeautifulSoup(response.content, 'html.parser')"
   ]
  },
  {
   "cell_type": "code",
   "execution_count": 8,
   "id": "1a23467a-afce-4b5d-be06-a8d45b835516",
   "metadata": {
    "scrolled": true
   },
   "outputs": [
    {
     "data": {
      "text/plain": [
       "[<td class=\"infobox-data\">Germany</td>,\n",
       " <td class=\"infobox-data\"><a href=\"/wiki/Boroughs_and_neighborhoods_of_Berlin\" title=\"Boroughs and neighborhoods of Berlin\">Berlin</a></td>,\n",
       " <td class=\"infobox-data agent\"><a href=\"/wiki/Abgeordnetenhaus_of_Berlin\" title=\"Abgeordnetenhaus of Berlin\">Abgeordnetenhaus of Berlin</a></td>,\n",
       " <td class=\"infobox-data\"><a href=\"/wiki/Kai_Wegner\" title=\"Kai Wegner\">Kai Wegner</a> (<a href=\"/wiki/Christian_Democratic_Union_of_Germany\" title=\"Christian Democratic Union of Germany\">CDU</a>)</td>,\n",
       " <td class=\"infobox-data\">4 (of 69)</td>,\n",
       " <td class=\"infobox-data\"><a href=\"/wiki/Results_of_the_2021_German_federal_election#Berlin\" title=\"Results of the 2021 German federal election\">29 (of 736)</a></td>,\n",
       " <td class=\"infobox-data\">891.3 km<sup>2</sup> (344.1 sq mi)</td>,\n",
       " <td class=\"infobox-data\">3,743 km<sup>2</sup> (1,445 sq mi)</td>,\n",
       " <td class=\"infobox-data\">30,546 km<sup>2</sup> (11,794 sq mi)</td>,\n",
       " <td class=\"infobox-data\">34 m (112 ft)</td>,\n",
       " <td class=\"infobox-data\">3,878,100</td>,\n",
       " <td class=\"infobox-data\"><a href=\"/wiki/List_of_European_cities_by_population_within_city_limits\" title=\"List of European cities by population within city limits\">5th</a> in Europe<br/><a href=\"/wiki/List_of_cities_in_Germany_by_population\" title=\"List of cities in Germany by population\">1st</a> in Germany</td>,\n",
       " <td class=\"infobox-data\">4,213/km<sup>2</sup> (10,910/sq mi)</td>,\n",
       " <td class=\"infobox-data\">4,768,142</td>,\n",
       " <td class=\"infobox-data\">1,274/km<sup>2</sup> (3,300/sq mi)</td>,\n",
       " <td class=\"infobox-data\">6,144,600</td>,\n",
       " <td class=\"infobox-data\">201/km<sup>2</sup> (520/sq mi)</td>,\n",
       " <td class=\"infobox-data\">Berliner(s) (English)<br/>Berliner (m), Berlinerin (f) (German)</td>,\n",
       " <td class=\"infobox-data\">€179.379 billion (2022)</td>,\n",
       " <td class=\"infobox-data\">€268.179 billion (2022)</td>,\n",
       " <td class=\"infobox-data\"><a href=\"/wiki/UTC%2B01:00\" title=\"UTC+01:00\">UTC+01:00</a> (<a href=\"/wiki/Central_European_Time\" title=\"Central European Time\">CET</a>)</td>,\n",
       " <td class=\"infobox-data\"><a href=\"/wiki/UTC%2B02:00\" title=\"UTC+02:00\">UTC+02:00</a> (<a href=\"/wiki/Central_European_Summer_Time\" title=\"Central European Summer Time\">CEST</a>)</td>,\n",
       " <td class=\"infobox-data\"><a href=\"/wiki/List_of_dialling_codes_in_Germany#030_–_Berlin\" title=\"List of dialling codes in Germany\">030</a></td>,\n",
       " <td class=\"infobox-data nickname\"><a href=\"/wiki/Nomenclature_of_Territorial_Units_for_Statistics\" title=\"Nomenclature of Territorial Units for Statistics\">NUTS Region</a>: DE3</td>,\n",
       " <td class=\"infobox-data nickname\">DE-BE</td>,\n",
       " <td class=\"infobox-data\">B</td>,\n",
       " <td class=\"infobox-data\"><a href=\"/wiki/.berlin\" title=\".berlin\">.berlin</a></td>,\n",
       " <td class=\"infobox-data\">0.959<sup class=\"reference\" id=\"cite_ref-GlobalDataLab_9-0\"><a href=\"#cite_note-GlobalDataLab-9\">[9]</a></sup><br/><style data-mw-deduplicate=\"TemplateStyles:r1220487116\">html.skin-theme-clientpref-night .mw-parser-output div:not(.notheme)>.tmp-color,html.skin-theme-clientpref-night .mw-parser-output p>.tmp-color,html.skin-theme-clientpref-night .mw-parser-output table:not(.notheme) .tmp-color{color:inherit!important}@media(prefers-color-scheme:dark){html.skin-theme-clientpref-os .mw-parser-output div:not(.notheme)>.tmp-color,html.skin-theme-clientpref-os .mw-parser-output p>.tmp-color,html.skin-theme-clientpref-os .mw-parser-output table:not(.notheme) .tmp-color{color:inherit!important}}</style><span class=\"tmp-color\" style=\"color:green\">very high</span> · <a href=\"/wiki/List_of_German_states_by_Human_Development_Index\" title=\"List of German states by Human Development Index\">2nd of 16</a></td>,\n",
       " <td class=\"infobox-data\"><span class=\"url\"><a class=\"external text\" href=\"https://www.berlin.de/en/\" rel=\"nofollow\">berlin.de</a></span></td>]"
      ]
     },
     "execution_count": 8,
     "metadata": {},
     "output_type": "execute_result"
    }
   ],
   "source": [
    "berlin_soup.find_all(class_=\"infobox-data\")"
   ]
  },
  {
   "cell_type": "code",
   "execution_count": 9,
   "id": "f40e96db-9725-40c7-9437-4d1ea5a69079",
   "metadata": {},
   "outputs": [
    {
     "data": {
      "text/plain": [
       "<td class=\"infobox-data\">Germany</td>"
      ]
     },
     "execution_count": 9,
     "metadata": {},
     "output_type": "execute_result"
    }
   ],
   "source": [
    "berlin_soup.find(class_=\"infobox-data\")"
   ]
  },
  {
   "cell_type": "code",
   "execution_count": 10,
   "id": "86afda59-9da8-457b-afc3-b436d55e8bc5",
   "metadata": {},
   "outputs": [
    {
     "data": {
      "text/plain": [
       "'Germany'"
      ]
     },
     "execution_count": 10,
     "metadata": {},
     "output_type": "execute_result"
    }
   ],
   "source": [
    "# Extracting the country information\n",
    "berlin_country = berlin_soup.find(class_=\"infobox-data\").get_text()\n",
    "berlin_country"
   ]
  },
  {
   "cell_type": "code",
   "execution_count": 11,
   "id": "800444e2-b4b6-489a-9931-90bfe2f2cecc",
   "metadata": {},
   "outputs": [
    {
     "data": {
      "text/plain": [
       "'13°24′18″E'"
      ]
     },
     "execution_count": 11,
     "metadata": {},
     "output_type": "execute_result"
    }
   ],
   "source": [
    "# Extracting the longitude information\n",
    "berlin_longitude = berlin_soup.find(class_=\"longitude\").get_text()\n",
    "berlin_longitude"
   ]
  },
  {
   "cell_type": "code",
   "execution_count": 12,
   "id": "c7a09ae0-2562-4dc8-83e2-563edfedb103",
   "metadata": {},
   "outputs": [
    {
     "data": {
      "text/plain": [
       "'52°31′12″N'"
      ]
     },
     "execution_count": 12,
     "metadata": {},
     "output_type": "execute_result"
    }
   ],
   "source": [
    "# Extracting the latitude information\n",
    "berlin_latitude = berlin_soup.find(class_=\"latitude\").get_text()\n",
    "berlin_latitude"
   ]
  },
  {
   "cell_type": "markdown",
   "id": "6b60f5d5-3af3-4965-bad0-104dc1afcdbe",
   "metadata": {},
   "source": [
    "#### Changing the longitude and latitude format to a decimal "
   ]
  },
  {
   "cell_type": "code",
   "execution_count": 14,
   "id": "3bb46111-e0df-4873-a6cc-08c0f80f1615",
   "metadata": {},
   "outputs": [
    {
     "name": "stdout",
     "output_type": "stream",
     "text": [
      "Requirement already satisfied: lat-lon-parser in /opt/anaconda3/lib/python3.11/site-packages (1.3.0)\n"
     ]
    }
   ],
   "source": [
    "!pip install lat-lon-parser"
   ]
  },
  {
   "cell_type": "code",
   "execution_count": 15,
   "id": "68130b3f-0217-4489-85a8-1f77ef96c3fd",
   "metadata": {},
   "outputs": [],
   "source": [
    "from lat_lon_parser import parse"
   ]
  },
  {
   "cell_type": "code",
   "execution_count": 16,
   "id": "4868600c-dc62-4e67-9bd1-b36fd7d07526",
   "metadata": {},
   "outputs": [
    {
     "data": {
      "text/plain": [
       "52.519999999999996"
      ]
     },
     "execution_count": 16,
     "metadata": {},
     "output_type": "execute_result"
    }
   ],
   "source": [
    "# Converting the latitude to a decimal \n",
    "parse(berlin_latitude)"
   ]
  },
  {
   "cell_type": "code",
   "execution_count": 17,
   "id": "64ccc806-2cb9-4262-a42e-478cc17a6d48",
   "metadata": {},
   "outputs": [
    {
     "data": {
      "text/plain": [
       "13.405000000000001"
      ]
     },
     "execution_count": 17,
     "metadata": {},
     "output_type": "execute_result"
    }
   ],
   "source": [
    "# Converting the longitude to a decimal\n",
    "parse(berlin_longitude)"
   ]
  },
  {
   "cell_type": "markdown",
   "id": "a83ec094-a1ef-4692-b6c2-91681e71b3e2",
   "metadata": {},
   "source": [
    "## Scraping City Data for multiple Cities"
   ]
  },
  {
   "cell_type": "code",
   "execution_count": 18,
   "id": "97ce766e-ef25-4579-b78d-3a1dfd2903f1",
   "metadata": {
    "scrolled": true
   },
   "outputs": [
    {
     "data": {
      "text/html": [
       "<div>\n",
       "<style scoped>\n",
       "    .dataframe tbody tr th:only-of-type {\n",
       "        vertical-align: middle;\n",
       "    }\n",
       "\n",
       "    .dataframe tbody tr th {\n",
       "        vertical-align: top;\n",
       "    }\n",
       "\n",
       "    .dataframe thead th {\n",
       "        text-align: right;\n",
       "    }\n",
       "</style>\n",
       "<table border=\"1\" class=\"dataframe\">\n",
       "  <thead>\n",
       "    <tr style=\"text-align: right;\">\n",
       "      <th></th>\n",
       "      <th>city</th>\n",
       "      <th>country</th>\n",
       "      <th>latitude</th>\n",
       "      <th>longitude</th>\n",
       "    </tr>\n",
       "  </thead>\n",
       "  <tbody>\n",
       "    <tr>\n",
       "      <th>0</th>\n",
       "      <td>Berlin</td>\n",
       "      <td>Germany</td>\n",
       "      <td>52.520000</td>\n",
       "      <td>13.405000</td>\n",
       "    </tr>\n",
       "    <tr>\n",
       "      <th>1</th>\n",
       "      <td>Hamburg</td>\n",
       "      <td>Germany</td>\n",
       "      <td>53.550000</td>\n",
       "      <td>10.000000</td>\n",
       "    </tr>\n",
       "    <tr>\n",
       "      <th>2</th>\n",
       "      <td>Munich</td>\n",
       "      <td>Germany</td>\n",
       "      <td>48.137500</td>\n",
       "      <td>11.575000</td>\n",
       "    </tr>\n",
       "    <tr>\n",
       "      <th>3</th>\n",
       "      <td>Cologne</td>\n",
       "      <td>Germany</td>\n",
       "      <td>50.936389</td>\n",
       "      <td>6.952778</td>\n",
       "    </tr>\n",
       "    <tr>\n",
       "      <th>4</th>\n",
       "      <td>Stuttgart</td>\n",
       "      <td>Germany</td>\n",
       "      <td>48.777500</td>\n",
       "      <td>9.180000</td>\n",
       "    </tr>\n",
       "  </tbody>\n",
       "</table>\n",
       "</div>"
      ],
      "text/plain": [
       "        city  country   latitude  longitude\n",
       "0     Berlin  Germany  52.520000  13.405000\n",
       "1    Hamburg  Germany  53.550000  10.000000\n",
       "2     Munich  Germany  48.137500  11.575000\n",
       "3    Cologne  Germany  50.936389   6.952778\n",
       "4  Stuttgart  Germany  48.777500   9.180000"
      ]
     },
     "execution_count": 18,
     "metadata": {},
     "output_type": "execute_result"
    }
   ],
   "source": [
    "cities = [\"Berlin\", \"Hamburg\", \"Munich\", \"Cologne\", \"Stuttgart\"]\n",
    "# Creating a single list to keep all the data\n",
    "city_data = []\n",
    "\n",
    "for city in cities:\n",
    "    url = f\"https://www.wikipedia.org/wiki/{city}\"\n",
    "    response = requests.get(url)\n",
    "    city_soup = BeautifulSoup(response.content, 'html.parser')\n",
    "\n",
    "    # Extracting the relevant information\n",
    "    country = city_soup.find(class_=\"infobox-data\").get_text()\n",
    "    city_latitude = city_soup.find(class_=\"latitude\").get_text()\n",
    "    city_longitude = city_soup.find(class_=\"longitude\").get_text()\n",
    "\n",
    "    #  Appending a dictionary of values to the list for each city\n",
    "    city_data.append({\"city\": city,\n",
    "                     \"country\": country,\n",
    "                     \"latitude\": parse(city_latitude),# latitude in decimal format\n",
    "                     \"longitude\": parse(city_longitude) # longitude in decimal format\n",
    "                    })\n",
    "\n",
    "cities_df = pd.DataFrame(city_data)\n",
    "cities_df\n"
   ]
  },
  {
   "cell_type": "markdown",
   "id": "1eba249f-7672-4445-9997-c60603dad4d6",
   "metadata": {},
   "source": [
    "## Defining a Function to Automate Population Data Extraction"
   ]
  },
  {
   "cell_type": "code",
   "execution_count": 19,
   "id": "bb09a715-78ab-461e-a06b-d1e58ff2b7f6",
   "metadata": {},
   "outputs": [],
   "source": [
    "def cities_dataframe(cities):\n",
    "\n",
    "# Creating a single list to keep all the data\n",
    "city_data = []\n",
    "\n",
    "for city in cities:\n",
    "    url = f\"https://www.wikipedia.org/wiki/{city}\"\n",
    "    response = requests.get(url)\n",
    "    city_soup = BeautifulSoup(response.content, 'html.parser')\n",
    "\n",
    "    # Extracting the relevant information\n",
    "    city_latitude = city_soup.find(class_=\"latitude\").get_text()\n",
    "    city_longitude = city_soup.find(class_=\"longitude\").get_text()\n",
    "    country = city_soup.find(class_=\"infobox-data\").get_text()\n",
    "\n",
    "\n",
    "    #  Appending a dictionary of values to the list for each city\n",
    "    city_data.append({\"city_name\": city,\n",
    "                    \"country\": country,\n",
    "                    \"latitude\": parse(city_latitude), # latitude in decimal format\n",
    "                    \"longitude\": parse(city_longitude), # longitude in decimal format\n",
    "                    })\n",
    "\n",
    "  return pd.DataFrame(city_data)\n"
   ]
  },
  {
   "cell_type": "code",
   "execution_count": 20,
   "id": "3e540f42-feed-432b-9b5e-85793df6151e",
   "metadata": {},
   "outputs": [
    {
     "data": {
      "text/html": [
       "<div>\n",
       "<style scoped>\n",
       "    .dataframe tbody tr th:only-of-type {\n",
       "        vertical-align: middle;\n",
       "    }\n",
       "\n",
       "    .dataframe tbody tr th {\n",
       "        vertical-align: top;\n",
       "    }\n",
       "\n",
       "    .dataframe thead th {\n",
       "        text-align: right;\n",
       "    }\n",
       "</style>\n",
       "<table border=\"1\" class=\"dataframe\">\n",
       "  <thead>\n",
       "    <tr style=\"text-align: right;\">\n",
       "      <th></th>\n",
       "      <th>city_name</th>\n",
       "      <th>country</th>\n",
       "      <th>latitude</th>\n",
       "      <th>longitude</th>\n",
       "    </tr>\n",
       "  </thead>\n",
       "  <tbody>\n",
       "    <tr>\n",
       "      <th>0</th>\n",
       "      <td>Berlin</td>\n",
       "      <td>Germany</td>\n",
       "      <td>52.520000</td>\n",
       "      <td>13.405000</td>\n",
       "    </tr>\n",
       "    <tr>\n",
       "      <th>1</th>\n",
       "      <td>Hamburg</td>\n",
       "      <td>Germany</td>\n",
       "      <td>53.550000</td>\n",
       "      <td>10.000000</td>\n",
       "    </tr>\n",
       "    <tr>\n",
       "      <th>2</th>\n",
       "      <td>Munich</td>\n",
       "      <td>Germany</td>\n",
       "      <td>48.137500</td>\n",
       "      <td>11.575000</td>\n",
       "    </tr>\n",
       "    <tr>\n",
       "      <th>3</th>\n",
       "      <td>Cologne</td>\n",
       "      <td>Germany</td>\n",
       "      <td>50.936389</td>\n",
       "      <td>6.952778</td>\n",
       "    </tr>\n",
       "    <tr>\n",
       "      <th>4</th>\n",
       "      <td>Stuttgart</td>\n",
       "      <td>Germany</td>\n",
       "      <td>48.777500</td>\n",
       "      <td>9.180000</td>\n",
       "    </tr>\n",
       "  </tbody>\n",
       "</table>\n",
       "</div>"
      ],
      "text/plain": [
       "   city_name  country   latitude  longitude\n",
       "0     Berlin  Germany  52.520000  13.405000\n",
       "1    Hamburg  Germany  53.550000  10.000000\n",
       "2     Munich  Germany  48.137500  11.575000\n",
       "3    Cologne  Germany  50.936389   6.952778\n",
       "4  Stuttgart  Germany  48.777500   9.180000"
      ]
     },
     "execution_count": 20,
     "metadata": {},
     "output_type": "execute_result"
    }
   ],
   "source": [
    "list_of_cities = cities = [\"Berlin\", \"Hamburg\", \"Munich\", \"Cologne\", \"Stuttgart\"]\n",
    "\n",
    "cities_df = cities_dataframe(list_of_cities)\n",
    "cities_df"
   ]
  },
  {
   "cell_type": "markdown",
   "id": "2bb5febd-0c38-442d-a994-db6df4987239",
   "metadata": {},
   "source": [
    "Usage of Functions -> Would be easier for Gans to include cities later if they want to expand"
   ]
  },
  {
   "cell_type": "markdown",
   "id": "19050f4a-c090-45d6-a8bb-044f44d0d9f5",
   "metadata": {},
   "source": [
    "## Scraping Population Data for Berlin"
   ]
  },
  {
   "cell_type": "code",
   "execution_count": 23,
   "id": "8cfaa282-289f-4c0f-9f3f-52950d3f7c01",
   "metadata": {},
   "outputs": [
    {
     "data": {
      "text/plain": [
       "<div class=\"ib-settlement-fn\"><span class=\"nowrap\"> </span>(2023-12-31)<sup class=\"reference\" id=\"cite_ref-4\"><a href=\"#cite_note-4\">[4]</a></sup></div>"
      ]
     },
     "execution_count": 23,
     "metadata": {},
     "output_type": "execute_result"
    }
   ],
   "source": [
    "berlin_soup.find(string=\"Population\").find_next()"
   ]
  },
  {
   "cell_type": "code",
   "execution_count": 24,
   "id": "0fd73f6f-3829-4927-9cce-7701db089252",
   "metadata": {},
   "outputs": [
    {
     "data": {
      "text/plain": [
       "<td class=\"infobox-data\">3,878,100</td>"
      ]
     },
     "execution_count": 24,
     "metadata": {},
     "output_type": "execute_result"
    }
   ],
   "source": [
    "berlin_soup.find(string=\"Population\").find_next(\"td\")"
   ]
  },
  {
   "cell_type": "code",
   "execution_count": 25,
   "id": "f396144a-58aa-4e64-965e-098cc0534c66",
   "metadata": {},
   "outputs": [
    {
     "data": {
      "text/plain": [
       "'3,878,100'"
      ]
     },
     "execution_count": 25,
     "metadata": {},
     "output_type": "execute_result"
    }
   ],
   "source": [
    "berlin_population = berlin_soup.find(string=\"Population\").find_next(\"td\").get_text()\n",
    "berlin_population"
   ]
  },
  {
   "cell_type": "code",
   "execution_count": 26,
   "id": "20bf3331-2670-4a26-8480-a507233f2c0f",
   "metadata": {},
   "outputs": [
    {
     "data": {
      "text/plain": [
       "3878100"
      ]
     },
     "execution_count": 26,
     "metadata": {},
     "output_type": "execute_result"
    }
   ],
   "source": [
    "berlin_population_clean = int(berlin_population.replace(\",\", \"\"))\n",
    "berlin_population_clean"
   ]
  },
  {
   "cell_type": "code",
   "execution_count": 27,
   "id": "b833eb85-3cff-41ab-85ba-78612882312f",
   "metadata": {},
   "outputs": [
    {
     "name": "stdout",
     "output_type": "stream",
     "text": [
      "<class 'int'>\n"
     ]
    }
   ],
   "source": [
    "# Check if the datatype of the population has actually been changed\n",
    "print(type(berlin_population_clean))"
   ]
  },
  {
   "cell_type": "markdown",
   "id": "8abd5988-8c73-48e9-965d-c0b7aadcf256",
   "metadata": {},
   "source": [
    "## Scraping Population Data for multiple cities "
   ]
  },
  {
   "cell_type": "code",
   "execution_count": 28,
   "id": "48374ce7-e9ed-41ef-b768-77d3b8b00c2b",
   "metadata": {},
   "outputs": [
    {
     "data": {
      "text/html": [
       "<div>\n",
       "<style scoped>\n",
       "    .dataframe tbody tr th:only-of-type {\n",
       "        vertical-align: middle;\n",
       "    }\n",
       "\n",
       "    .dataframe tbody tr th {\n",
       "        vertical-align: top;\n",
       "    }\n",
       "\n",
       "    .dataframe thead th {\n",
       "        text-align: right;\n",
       "    }\n",
       "</style>\n",
       "<table border=\"1\" class=\"dataframe\">\n",
       "  <thead>\n",
       "    <tr style=\"text-align: right;\">\n",
       "      <th></th>\n",
       "      <th>city_name</th>\n",
       "      <th>population</th>\n",
       "      <th>population_timestamp</th>\n",
       "    </tr>\n",
       "  </thead>\n",
       "  <tbody>\n",
       "    <tr>\n",
       "      <th>0</th>\n",
       "      <td>Berlin</td>\n",
       "      <td>3878100</td>\n",
       "      <td>11.07.2024</td>\n",
       "    </tr>\n",
       "    <tr>\n",
       "      <th>1</th>\n",
       "      <td>Hamburg</td>\n",
       "      <td>1964021</td>\n",
       "      <td>11.07.2024</td>\n",
       "    </tr>\n",
       "    <tr>\n",
       "      <th>2</th>\n",
       "      <td>Munich</td>\n",
       "      <td>1512491</td>\n",
       "      <td>11.07.2024</td>\n",
       "    </tr>\n",
       "    <tr>\n",
       "      <th>3</th>\n",
       "      <td>Cologne</td>\n",
       "      <td>1084831</td>\n",
       "      <td>11.07.2024</td>\n",
       "    </tr>\n",
       "    <tr>\n",
       "      <th>4</th>\n",
       "      <td>Stuttgart</td>\n",
       "      <td>632865</td>\n",
       "      <td>11.07.2024</td>\n",
       "    </tr>\n",
       "  </tbody>\n",
       "</table>\n",
       "</div>"
      ],
      "text/plain": [
       "   city_name  population population_timestamp\n",
       "0     Berlin     3878100           11.07.2024\n",
       "1    Hamburg     1964021           11.07.2024\n",
       "2     Munich     1512491           11.07.2024\n",
       "3    Cologne     1084831           11.07.2024\n",
       "4  Stuttgart      632865           11.07.2024"
      ]
     },
     "execution_count": 28,
     "metadata": {},
     "output_type": "execute_result"
    }
   ],
   "source": [
    "from datetime import datetime # to get today's date\n",
    "\n",
    "cities = [\"Berlin\", \"Hamburg\", \"Munich\", \"Cologne\", \"Stuttgart\"]\n",
    "\n",
    "# Creating a single list to keep all the data\n",
    "population_data = []\n",
    "\n",
    "for city in cities:\n",
    "    url = f\"https://www.wikipedia.org/wiki/{city}\"\n",
    "    response = requests.get(url)\n",
    "    city_soup = BeautifulSoup(response.content, 'html.parser')\n",
    "\n",
    "    # Extracting the relevant information\n",
    "    city_population = city_soup.find(string=\"Population\").find_next(\"td\").get_text()\n",
    "    city_population_clean = int(city_population.replace(\",\", \"\"))\n",
    "    today = datetime.today().strftime(\"%d.%m.%Y\")\n",
    "\n",
    "    #  Appending a dictionary of values to the list for each city\n",
    "    population_data.append({\"city_name\": city,\n",
    "                     \"population\": city_population_clean,\n",
    "                     \"population_timestamp\": today\n",
    "                    })\n",
    "\n",
    "population_data = pd.DataFrame(population_data)\n",
    "population_data"
   ]
  },
  {
   "cell_type": "markdown",
   "id": "3dc744f3-0607-4545-ad27-619e8a51f5a8",
   "metadata": {},
   "source": [
    "## Defining a Function to Automate Population Data Extraction"
   ]
  },
  {
   "cell_type": "code",
   "execution_count": 29,
   "id": "96ab4a06-b428-4787-b9dc-8b19e90b1ac1",
   "metadata": {},
   "outputs": [],
   "source": [
    "def populations_dataframe(cities):\n",
    "# Creating a single list to keep all the data\n",
    "    population_data = []\n",
    "\n",
    "    for city in cities:\n",
    "        url = f\"https://www.wikipedia.org/wiki/{city}\"\n",
    "        response = requests.get(url)\n",
    "        city_soup = BeautifulSoup(response.content, 'html.parser')\n",
    "    \n",
    "    # Extracting the relevant information\n",
    "        city_population = city_soup.find(string=\"Population\").find_next(\"td\").get_text()\n",
    "        city_population_clean = int(city_population.replace(\",\", \"\"))\n",
    "        today = datetime.today().strftime(\"%d.%m.%Y\")\n",
    "\n",
    "    #  Appending a dictionary of values to the list for each city\n",
    "        population_data.append({\"city_name\": city,\n",
    "                     \"population\": city_population_clean,\n",
    "                     \"population_timestamp\": today\n",
    "                    })\n",
    "\n",
    "    return pd.DataFrame(population_data)"
   ]
  },
  {
   "cell_type": "code",
   "execution_count": 30,
   "id": "7522cfae-0a48-4428-81c4-dc62795a7fbb",
   "metadata": {},
   "outputs": [
    {
     "data": {
      "text/html": [
       "<div>\n",
       "<style scoped>\n",
       "    .dataframe tbody tr th:only-of-type {\n",
       "        vertical-align: middle;\n",
       "    }\n",
       "\n",
       "    .dataframe tbody tr th {\n",
       "        vertical-align: top;\n",
       "    }\n",
       "\n",
       "    .dataframe thead th {\n",
       "        text-align: right;\n",
       "    }\n",
       "</style>\n",
       "<table border=\"1\" class=\"dataframe\">\n",
       "  <thead>\n",
       "    <tr style=\"text-align: right;\">\n",
       "      <th></th>\n",
       "      <th>city_name</th>\n",
       "      <th>population</th>\n",
       "      <th>population_timestamp</th>\n",
       "    </tr>\n",
       "  </thead>\n",
       "  <tbody>\n",
       "    <tr>\n",
       "      <th>0</th>\n",
       "      <td>Berlin</td>\n",
       "      <td>3878100</td>\n",
       "      <td>11.07.2024</td>\n",
       "    </tr>\n",
       "    <tr>\n",
       "      <th>1</th>\n",
       "      <td>Hamburg</td>\n",
       "      <td>1964021</td>\n",
       "      <td>11.07.2024</td>\n",
       "    </tr>\n",
       "    <tr>\n",
       "      <th>2</th>\n",
       "      <td>Munich</td>\n",
       "      <td>1512491</td>\n",
       "      <td>11.07.2024</td>\n",
       "    </tr>\n",
       "    <tr>\n",
       "      <th>3</th>\n",
       "      <td>Cologne</td>\n",
       "      <td>1084831</td>\n",
       "      <td>11.07.2024</td>\n",
       "    </tr>\n",
       "    <tr>\n",
       "      <th>4</th>\n",
       "      <td>Stuttgart</td>\n",
       "      <td>632865</td>\n",
       "      <td>11.07.2024</td>\n",
       "    </tr>\n",
       "  </tbody>\n",
       "</table>\n",
       "</div>"
      ],
      "text/plain": [
       "   city_name  population population_timestamp\n",
       "0     Berlin     3878100           11.07.2024\n",
       "1    Hamburg     1964021           11.07.2024\n",
       "2     Munich     1512491           11.07.2024\n",
       "3    Cologne     1084831           11.07.2024\n",
       "4  Stuttgart      632865           11.07.2024"
      ]
     },
     "execution_count": 30,
     "metadata": {},
     "output_type": "execute_result"
    }
   ],
   "source": [
    "# Calling the populations function\n",
    "cities = [\"Berlin\", \"Hamburg\", \"Munich\", \"Cologne\", \"Stuttgart\"]\n",
    "population_df = populations_dataframe(cities)\n",
    "population_df"
   ]
  },
  {
   "cell_type": "code",
   "execution_count": 31,
   "id": "1b169a45-5369-45e5-82dd-2f8f313f3613",
   "metadata": {},
   "outputs": [
    {
     "name": "stdout",
     "output_type": "stream",
     "text": [
      "Requirement already satisfied: sqlalchemy in /opt/anaconda3/lib/python3.11/site-packages (2.0.25)\n",
      "Requirement already satisfied: typing-extensions>=4.6.0 in /opt/anaconda3/lib/python3.11/site-packages (from sqlalchemy) (4.12.0)\n",
      "Requirement already satisfied: pymysql in /opt/anaconda3/lib/python3.11/site-packages (1.1.1)\n"
     ]
    }
   ],
   "source": [
    " !pip install sqlalchemy\n",
    " !pip install pymysql"
   ]
  },
  {
   "cell_type": "code",
   "execution_count": null,
   "id": "8c6050f6-f042-4474-9bd6-d4395b772060",
   "metadata": {},
   "outputs": [],
   "source": [
    "# This was added later to not show the password\n",
    "import pw_safe"
   ]
  },
  {
   "cell_type": "code",
   "execution_count": 32,
   "id": "da593fd0-266a-4d05-8ac1-9d8cd6a72103",
   "metadata": {},
   "outputs": [],
   "source": [
    "# Defining the connection string to the MySQL database\n",
    "schema = \"gans\"\n",
    "host = \"35.240.108.232\"\n",
    "user = \"root\"\n",
    "password = pw_safe.sql_root\n",
    "port = 3306\n",
    "\n",
    "connection_string = f'mysql+pymysql://{user}:{password}@{host}:{port}/{schema}'"
   ]
  },
  {
   "cell_type": "code",
   "execution_count": 33,
   "id": "34addb12-5b63-4264-b9cd-b85cff7bdb5a",
   "metadata": {},
   "outputs": [
    {
     "data": {
      "text/plain": [
       "5"
      ]
     },
     "execution_count": 33,
     "metadata": {},
     "output_type": "execute_result"
    }
   ],
   "source": [
    "# Pushing the cities information to the database\n",
    "cities_df.to_sql('cities',\n",
    "                  if_exists='',\n",
    "                  con=connection_string,\n",
    "                  index=False)"
   ]
  },
  {
   "cell_type": "code",
   "execution_count": 34,
   "id": "651c700b-1ef6-415c-b8c3-22659ce95314",
   "metadata": {},
   "outputs": [
    {
     "data": {
      "text/html": [
       "<div>\n",
       "<style scoped>\n",
       "    .dataframe tbody tr th:only-of-type {\n",
       "        vertical-align: middle;\n",
       "    }\n",
       "\n",
       "    .dataframe tbody tr th {\n",
       "        vertical-align: top;\n",
       "    }\n",
       "\n",
       "    .dataframe thead th {\n",
       "        text-align: right;\n",
       "    }\n",
       "</style>\n",
       "<table border=\"1\" class=\"dataframe\">\n",
       "  <thead>\n",
       "    <tr style=\"text-align: right;\">\n",
       "      <th></th>\n",
       "      <th>city_name</th>\n",
       "      <th>country</th>\n",
       "      <th>latitude</th>\n",
       "      <th>longitude</th>\n",
       "    </tr>\n",
       "  </thead>\n",
       "  <tbody>\n",
       "    <tr>\n",
       "      <th>0</th>\n",
       "      <td>Berlin</td>\n",
       "      <td>Germany</td>\n",
       "      <td>52.520000</td>\n",
       "      <td>13.405000</td>\n",
       "    </tr>\n",
       "    <tr>\n",
       "      <th>1</th>\n",
       "      <td>Hamburg</td>\n",
       "      <td>Germany</td>\n",
       "      <td>53.550000</td>\n",
       "      <td>10.000000</td>\n",
       "    </tr>\n",
       "    <tr>\n",
       "      <th>2</th>\n",
       "      <td>Munich</td>\n",
       "      <td>Germany</td>\n",
       "      <td>48.137500</td>\n",
       "      <td>11.575000</td>\n",
       "    </tr>\n",
       "    <tr>\n",
       "      <th>3</th>\n",
       "      <td>Cologne</td>\n",
       "      <td>Germany</td>\n",
       "      <td>50.936389</td>\n",
       "      <td>6.952778</td>\n",
       "    </tr>\n",
       "    <tr>\n",
       "      <th>4</th>\n",
       "      <td>Stuttgart</td>\n",
       "      <td>Germany</td>\n",
       "      <td>48.777500</td>\n",
       "      <td>9.180000</td>\n",
       "    </tr>\n",
       "  </tbody>\n",
       "</table>\n",
       "</div>"
      ],
      "text/plain": [
       "   city_name  country   latitude  longitude\n",
       "0     Berlin  Germany  52.520000  13.405000\n",
       "1    Hamburg  Germany  53.550000  10.000000\n",
       "2     Munich  Germany  48.137500  11.575000\n",
       "3    Cologne  Germany  50.936389   6.952778\n",
       "4  Stuttgart  Germany  48.777500   9.180000"
      ]
     },
     "execution_count": 34,
     "metadata": {},
     "output_type": "execute_result"
    }
   ],
   "source": [
    "cities_df"
   ]
  },
  {
   "cell_type": "code",
   "execution_count": 37,
   "id": "6626739e-82ee-4bcd-8461-936bd2349656",
   "metadata": {},
   "outputs": [
    {
     "data": {
      "text/html": [
       "<div>\n",
       "<style scoped>\n",
       "    .dataframe tbody tr th:only-of-type {\n",
       "        vertical-align: middle;\n",
       "    }\n",
       "\n",
       "    .dataframe tbody tr th {\n",
       "        vertical-align: top;\n",
       "    }\n",
       "\n",
       "    .dataframe thead th {\n",
       "        text-align: right;\n",
       "    }\n",
       "</style>\n",
       "<table border=\"1\" class=\"dataframe\">\n",
       "  <thead>\n",
       "    <tr style=\"text-align: right;\">\n",
       "      <th></th>\n",
       "      <th>city_name</th>\n",
       "      <th>population</th>\n",
       "      <th>population_timestamp</th>\n",
       "    </tr>\n",
       "  </thead>\n",
       "  <tbody>\n",
       "    <tr>\n",
       "      <th>0</th>\n",
       "      <td>Berlin</td>\n",
       "      <td>3878100</td>\n",
       "      <td>11.07.2024</td>\n",
       "    </tr>\n",
       "    <tr>\n",
       "      <th>1</th>\n",
       "      <td>Hamburg</td>\n",
       "      <td>1964021</td>\n",
       "      <td>11.07.2024</td>\n",
       "    </tr>\n",
       "    <tr>\n",
       "      <th>2</th>\n",
       "      <td>Munich</td>\n",
       "      <td>1512491</td>\n",
       "      <td>11.07.2024</td>\n",
       "    </tr>\n",
       "    <tr>\n",
       "      <th>3</th>\n",
       "      <td>Cologne</td>\n",
       "      <td>1084831</td>\n",
       "      <td>11.07.2024</td>\n",
       "    </tr>\n",
       "    <tr>\n",
       "      <th>4</th>\n",
       "      <td>Stuttgart</td>\n",
       "      <td>632865</td>\n",
       "      <td>11.07.2024</td>\n",
       "    </tr>\n",
       "  </tbody>\n",
       "</table>\n",
       "</div>"
      ],
      "text/plain": [
       "   city_name  population population_timestamp\n",
       "0     Berlin     3878100           11.07.2024\n",
       "1    Hamburg     1964021           11.07.2024\n",
       "2     Munich     1512491           11.07.2024\n",
       "3    Cologne     1084831           11.07.2024\n",
       "4  Stuttgart      632865           11.07.2024"
      ]
     },
     "execution_count": 37,
     "metadata": {},
     "output_type": "execute_result"
    }
   ],
   "source": [
    "population_data"
   ]
  },
  {
   "cell_type": "code",
   "execution_count": 38,
   "id": "be164e5e-8516-4038-8696-6b5c0320b594",
   "metadata": {},
   "outputs": [
    {
     "data": {
      "text/html": [
       "<div>\n",
       "<style scoped>\n",
       "    .dataframe tbody tr th:only-of-type {\n",
       "        vertical-align: middle;\n",
       "    }\n",
       "\n",
       "    .dataframe tbody tr th {\n",
       "        vertical-align: top;\n",
       "    }\n",
       "\n",
       "    .dataframe thead th {\n",
       "        text-align: right;\n",
       "    }\n",
       "</style>\n",
       "<table border=\"1\" class=\"dataframe\">\n",
       "  <thead>\n",
       "    <tr style=\"text-align: right;\">\n",
       "      <th></th>\n",
       "      <th>city_id</th>\n",
       "      <th>city_name</th>\n",
       "      <th>country</th>\n",
       "      <th>latitude</th>\n",
       "      <th>longitude</th>\n",
       "    </tr>\n",
       "  </thead>\n",
       "  <tbody>\n",
       "    <tr>\n",
       "      <th>0</th>\n",
       "      <td>1</td>\n",
       "      <td>Berlin</td>\n",
       "      <td>Germany</td>\n",
       "      <td>52.520000</td>\n",
       "      <td>13.405000</td>\n",
       "    </tr>\n",
       "    <tr>\n",
       "      <th>1</th>\n",
       "      <td>2</td>\n",
       "      <td>Hamburg</td>\n",
       "      <td>Germany</td>\n",
       "      <td>53.550000</td>\n",
       "      <td>10.000000</td>\n",
       "    </tr>\n",
       "    <tr>\n",
       "      <th>2</th>\n",
       "      <td>3</td>\n",
       "      <td>Munich</td>\n",
       "      <td>Germany</td>\n",
       "      <td>48.137500</td>\n",
       "      <td>11.575000</td>\n",
       "    </tr>\n",
       "    <tr>\n",
       "      <th>3</th>\n",
       "      <td>4</td>\n",
       "      <td>Cologne</td>\n",
       "      <td>Germany</td>\n",
       "      <td>50.936389</td>\n",
       "      <td>6.952778</td>\n",
       "    </tr>\n",
       "    <tr>\n",
       "      <th>4</th>\n",
       "      <td>5</td>\n",
       "      <td>Stuttgart</td>\n",
       "      <td>Germany</td>\n",
       "      <td>48.777500</td>\n",
       "      <td>9.180000</td>\n",
       "    </tr>\n",
       "  </tbody>\n",
       "</table>\n",
       "</div>"
      ],
      "text/plain": [
       "   city_id  city_name  country   latitude  longitude\n",
       "0        1     Berlin  Germany  52.520000  13.405000\n",
       "1        2    Hamburg  Germany  53.550000  10.000000\n",
       "2        3     Munich  Germany  48.137500  11.575000\n",
       "3        4    Cologne  Germany  50.936389   6.952778\n",
       "4        5  Stuttgart  Germany  48.777500   9.180000"
      ]
     },
     "execution_count": 38,
     "metadata": {},
     "output_type": "execute_result"
    }
   ],
   "source": [
    "# Pulling the automatically created city_id from the database\n",
    "cities_from_sql = pd.read_sql(\"cities\", con=connection_string)\n",
    "cities_from_sql"
   ]
  },
  {
   "cell_type": "code",
   "execution_count": 39,
   "id": "d547d1bd-b4f5-4203-bceb-3675d0b5a2db",
   "metadata": {},
   "outputs": [
    {
     "data": {
      "text/html": [
       "<div>\n",
       "<style scoped>\n",
       "    .dataframe tbody tr th:only-of-type {\n",
       "        vertical-align: middle;\n",
       "    }\n",
       "\n",
       "    .dataframe tbody tr th {\n",
       "        vertical-align: top;\n",
       "    }\n",
       "\n",
       "    .dataframe thead th {\n",
       "        text-align: right;\n",
       "    }\n",
       "</style>\n",
       "<table border=\"1\" class=\"dataframe\">\n",
       "  <thead>\n",
       "    <tr style=\"text-align: right;\">\n",
       "      <th></th>\n",
       "      <th>city_name</th>\n",
       "      <th>population</th>\n",
       "      <th>population_timestamp</th>\n",
       "      <th>city_id</th>\n",
       "    </tr>\n",
       "  </thead>\n",
       "  <tbody>\n",
       "    <tr>\n",
       "      <th>0</th>\n",
       "      <td>Berlin</td>\n",
       "      <td>3878100</td>\n",
       "      <td>11.07.2024</td>\n",
       "      <td>1</td>\n",
       "    </tr>\n",
       "    <tr>\n",
       "      <th>1</th>\n",
       "      <td>Hamburg</td>\n",
       "      <td>1964021</td>\n",
       "      <td>11.07.2024</td>\n",
       "      <td>2</td>\n",
       "    </tr>\n",
       "    <tr>\n",
       "      <th>2</th>\n",
       "      <td>Munich</td>\n",
       "      <td>1512491</td>\n",
       "      <td>11.07.2024</td>\n",
       "      <td>3</td>\n",
       "    </tr>\n",
       "    <tr>\n",
       "      <th>3</th>\n",
       "      <td>Cologne</td>\n",
       "      <td>1084831</td>\n",
       "      <td>11.07.2024</td>\n",
       "      <td>4</td>\n",
       "    </tr>\n",
       "    <tr>\n",
       "      <th>4</th>\n",
       "      <td>Stuttgart</td>\n",
       "      <td>632865</td>\n",
       "      <td>11.07.2024</td>\n",
       "      <td>5</td>\n",
       "    </tr>\n",
       "  </tbody>\n",
       "</table>\n",
       "</div>"
      ],
      "text/plain": [
       "   city_name  population population_timestamp  city_id\n",
       "0     Berlin     3878100           11.07.2024        1\n",
       "1    Hamburg     1964021           11.07.2024        2\n",
       "2     Munich     1512491           11.07.2024        3\n",
       "3    Cologne     1084831           11.07.2024        4\n",
       "4  Stuttgart      632865           11.07.2024        5"
      ]
     },
     "execution_count": 39,
     "metadata": {},
     "output_type": "execute_result"
    }
   ],
   "source": [
    "population_data_new = pd.merge(population_data, cities_from_sql[['city_id', 'city_name']], on='city_name', how='left')\n",
    "population_data_new"
   ]
  },
  {
   "cell_type": "code",
   "execution_count": 40,
   "id": "0db13b65-60bf-49c3-9f66-85fd860c6247",
   "metadata": {},
   "outputs": [],
   "source": [
    "# Dropping redundant columns\n",
    "population_data_new.drop(columns=['city_name'], inplace=True)"
   ]
  },
  {
   "cell_type": "code",
   "execution_count": 41,
   "id": "c8343cde-f495-46e4-8a48-558aebb3689d",
   "metadata": {},
   "outputs": [
    {
     "data": {
      "text/html": [
       "<div>\n",
       "<style scoped>\n",
       "    .dataframe tbody tr th:only-of-type {\n",
       "        vertical-align: middle;\n",
       "    }\n",
       "\n",
       "    .dataframe tbody tr th {\n",
       "        vertical-align: top;\n",
       "    }\n",
       "\n",
       "    .dataframe thead th {\n",
       "        text-align: right;\n",
       "    }\n",
       "</style>\n",
       "<table border=\"1\" class=\"dataframe\">\n",
       "  <thead>\n",
       "    <tr style=\"text-align: right;\">\n",
       "      <th></th>\n",
       "      <th>population</th>\n",
       "      <th>population_timestamp</th>\n",
       "      <th>city_id</th>\n",
       "    </tr>\n",
       "  </thead>\n",
       "  <tbody>\n",
       "    <tr>\n",
       "      <th>0</th>\n",
       "      <td>3878100</td>\n",
       "      <td>11.07.2024</td>\n",
       "      <td>1</td>\n",
       "    </tr>\n",
       "    <tr>\n",
       "      <th>1</th>\n",
       "      <td>1964021</td>\n",
       "      <td>11.07.2024</td>\n",
       "      <td>2</td>\n",
       "    </tr>\n",
       "    <tr>\n",
       "      <th>2</th>\n",
       "      <td>1512491</td>\n",
       "      <td>11.07.2024</td>\n",
       "      <td>3</td>\n",
       "    </tr>\n",
       "    <tr>\n",
       "      <th>3</th>\n",
       "      <td>1084831</td>\n",
       "      <td>11.07.2024</td>\n",
       "      <td>4</td>\n",
       "    </tr>\n",
       "    <tr>\n",
       "      <th>4</th>\n",
       "      <td>632865</td>\n",
       "      <td>11.07.2024</td>\n",
       "      <td>5</td>\n",
       "    </tr>\n",
       "  </tbody>\n",
       "</table>\n",
       "</div>"
      ],
      "text/plain": [
       "   population population_timestamp  city_id\n",
       "0     3878100           11.07.2024        1\n",
       "1     1964021           11.07.2024        2\n",
       "2     1512491           11.07.2024        3\n",
       "3     1084831           11.07.2024        4\n",
       "4      632865           11.07.2024        5"
      ]
     },
     "execution_count": 41,
     "metadata": {},
     "output_type": "execute_result"
    }
   ],
   "source": [
    "population_data_new"
   ]
  },
  {
   "cell_type": "code",
   "execution_count": 42,
   "id": "11484f63-7a21-42cb-aa88-a4cd0cf3c1ea",
   "metadata": {},
   "outputs": [],
   "source": [
    "# Changing the format of the timestamp into a SQL suitable form \n",
    "population_data_new['population_timestamp'] = pd.to_datetime(population_data_new['population_timestamp'], format='%d.%m.%Y').dt.strftime('%Y-%m-%d')\n"
   ]
  },
  {
   "cell_type": "code",
   "execution_count": 43,
   "id": "4553c43a-d7fc-46c8-b7bf-4b57b159a8aa",
   "metadata": {},
   "outputs": [
    {
     "data": {
      "text/html": [
       "<div>\n",
       "<style scoped>\n",
       "    .dataframe tbody tr th:only-of-type {\n",
       "        vertical-align: middle;\n",
       "    }\n",
       "\n",
       "    .dataframe tbody tr th {\n",
       "        vertical-align: top;\n",
       "    }\n",
       "\n",
       "    .dataframe thead th {\n",
       "        text-align: right;\n",
       "    }\n",
       "</style>\n",
       "<table border=\"1\" class=\"dataframe\">\n",
       "  <thead>\n",
       "    <tr style=\"text-align: right;\">\n",
       "      <th></th>\n",
       "      <th>population</th>\n",
       "      <th>population_timestamp</th>\n",
       "      <th>city_id</th>\n",
       "    </tr>\n",
       "  </thead>\n",
       "  <tbody>\n",
       "    <tr>\n",
       "      <th>0</th>\n",
       "      <td>3878100</td>\n",
       "      <td>2024-07-11</td>\n",
       "      <td>1</td>\n",
       "    </tr>\n",
       "    <tr>\n",
       "      <th>1</th>\n",
       "      <td>1964021</td>\n",
       "      <td>2024-07-11</td>\n",
       "      <td>2</td>\n",
       "    </tr>\n",
       "    <tr>\n",
       "      <th>2</th>\n",
       "      <td>1512491</td>\n",
       "      <td>2024-07-11</td>\n",
       "      <td>3</td>\n",
       "    </tr>\n",
       "    <tr>\n",
       "      <th>3</th>\n",
       "      <td>1084831</td>\n",
       "      <td>2024-07-11</td>\n",
       "      <td>4</td>\n",
       "    </tr>\n",
       "    <tr>\n",
       "      <th>4</th>\n",
       "      <td>632865</td>\n",
       "      <td>2024-07-11</td>\n",
       "      <td>5</td>\n",
       "    </tr>\n",
       "  </tbody>\n",
       "</table>\n",
       "</div>"
      ],
      "text/plain": [
       "   population population_timestamp  city_id\n",
       "0     3878100           2024-07-11        1\n",
       "1     1964021           2024-07-11        2\n",
       "2     1512491           2024-07-11        3\n",
       "3     1084831           2024-07-11        4\n",
       "4      632865           2024-07-11        5"
      ]
     },
     "execution_count": 43,
     "metadata": {},
     "output_type": "execute_result"
    }
   ],
   "source": [
    "population_data_new"
   ]
  },
  {
   "cell_type": "code",
   "execution_count": 44,
   "id": "9436b113-dd41-4706-bf94-07aebe725525",
   "metadata": {
    "scrolled": true
   },
   "outputs": [
    {
     "data": {
      "text/plain": [
       "5"
      ]
     },
     "execution_count": 44,
     "metadata": {},
     "output_type": "execute_result"
    }
   ],
   "source": [
    "# Pushing the population information to the database\n",
    "population_data_new.to_sql('populations',\n",
    "                  if_exists='replace',\n",
    "                  con=connection_string,\n",
    "                  index=False)"
   ]
  }
 ],
 "metadata": {
  "kernelspec": {
   "display_name": "Python 3 (ipykernel)",
   "language": "python",
   "name": "python3"
  },
  "language_info": {
   "codemirror_mode": {
    "name": "ipython",
    "version": 3
   },
   "file_extension": ".py",
   "mimetype": "text/x-python",
   "name": "python",
   "nbconvert_exporter": "python",
   "pygments_lexer": "ipython3",
   "version": "3.11.7"
  }
 },
 "nbformat": 4,
 "nbformat_minor": 5
}
